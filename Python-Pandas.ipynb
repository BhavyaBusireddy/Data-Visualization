{
 "cells": [
  {
   "cell_type": "markdown",
   "metadata": {
    "id": "5VeBCCyaB4wK"
   },
   "source": [
    "**Data Visualization** <br>\n",
    "\n",
    "Spring 2022\n",
    "\n",
    "Ying Zhu <br>\n",
    "(yzhu@gsu.edu)\n",
    "\n",
    "# Project 1\n",
    "\n",
    "(last updated on 1/10/2022)\n",
    "\n",
    "**Due date: 11:59 pm, 2/1/2022 (Tuesday)**\n",
    "\n",
    "**Requirements**\n",
    "\n",
    "- The goal of this project is to help you get familiar with basic data processing using Python and Pandas. This project does not involve data visualization. \n",
    "\n",
    "- You must use Python and Pandas. \n",
    "\n",
    "- This is an individual project. Each student must submit his/her own work. \n",
    "\n",
    "- The three data files used in this project are included in a separate Zip file. All the data files are from [Tableau Public](https://public.tableau.com/en-us/s/resources). Upload these data files to your Colab working directory or the Jupyter Notebook working directory. If you are not sure where your Jupyter working directory is, please read my Notes on Python.\n",
    "\n",
    "- The best way to do this project is to open this file in Google Colab or Jupyter Notebook, enter your code in the blank cell under each question, and run it. People coming from Java, JavaScript, or C++ background need to get used to Jupyter Notebook where source code cells are interleaved with text cells.\n",
    "\n",
    "- Submit two things: a text file that contains the link to your Ipynb file in Google Colab (or the Ipynb file itself if you don't use Google Colab) and a PDF printout of your Ipynb file. **Make sure your Ipynb file in Google Colab is shared so that anyone with the link can view.** Do not put this link in public.\n",
    "\n",
    "- Each of your submitted files should include both source code and output. This will make it easier for my TA and I to check your answers. **Do not submit only the source code without output or the output without the source code.** <br> You can put the two files in a Zip file and submit the Zip file. \n",
    "\n",
    "- Do not submit by email. "
   ]
  },
  {
   "cell_type": "markdown",
   "metadata": {
    "id": "y59_QQNHCGRD"
   },
   "source": [
    "### Inc5000 Company dataset\n",
    "\n",
    "Load Inc5000_Company_List_2014.csv and answer the following questions. (40 points)\n",
    "\n",
    "1. Which company has the most workers? Which company has the least workers? (5 points)"
   ]
  },
  {
   "cell_type": "code",
   "execution_count": 3,
   "metadata": {
    "id": "PgVOiuHBCLTj"
   },
   "outputs": [
    {
     "name": "stdout",
     "output_type": "stream",
     "text": [
      "Which Company has most workers?\n",
      "\n",
      "                            company  workers\n",
      "2304  Universal Services of America    34219\n",
      "\n",
      "\n",
      "Which Company has least workers?\n",
      "\n",
      "                           company  workers\n",
      "597   MileStone Community Builders        0\n",
      "1057           Fruitables Pet Food        0\n",
      "1243        GTN Technical Staffing        0\n",
      "1635           Subzero Engineering        0\n",
      "2187                    LabConnect        0\n",
      "2922          Sorriso Technologies        0\n",
      "3174                      Phydeaux        0\n",
      "3344               Health Advocate        0\n",
      "4125          Automation & Control        0\n",
      "4407  American Sensor Technologies        0\n",
      "4521              General Networks        0\n",
      "4751            Blue Star Partners        0\n",
      "4827                    Polsinelli        0\n"
     ]
    }
   ],
   "source": [
    "import numpy as np\n",
    "import pandas as pd\n",
    "company = pd.read_csv ('Inc5000_Company_List_2014.csv')\n",
    "company1= company[[\"company\",\"workers\"]]\n",
    "print('Which Company has most workers?\\n')\n",
    "print(company1[company1.workers == company1.workers.max()])\n",
    "print('\\n\\nWhich Company has least workers?\\n')\n",
    "print(company1[company1.workers == company1.workers.min()])\n",
    "\n",
    "  "
   ]
  },
  {
   "cell_type": "markdown",
   "metadata": {
    "id": "VU7uC2w8SPfc"
   },
   "source": [
    "2. Which company is on the list for the longest time? (5 points)"
   ]
  },
  {
   "cell_type": "code",
   "execution_count": 4,
   "metadata": {
    "id": "-RVjbNlMSRQV"
   },
   "outputs": [
    {
     "name": "stdout",
     "output_type": "stream",
     "text": [
      "Which Company is on the list for the longest time?\n",
      "\n",
      "     company  yrs_on_list\n",
      "3820  TriNet           12\n"
     ]
    }
   ],
   "source": [
    "import numpy as np\n",
    "import pandas as pd\n",
    "company = pd.read_csv ('Inc5000_Company_List_2014.csv')\n",
    "company1= company[[\"company\",\"yrs_on_list\"]]\n",
    "print('Which Company is on the list for the longest time?\\n')\n",
    "print(company1[company1.yrs_on_list == company1.yrs_on_list.max()])"
   ]
  },
  {
   "cell_type": "markdown",
   "metadata": {
    "id": "o_Zw6-bhTFdU"
   },
   "source": [
    "3. List the top 10 companies with the highest revenue. (5 points)"
   ]
  },
  {
   "cell_type": "code",
   "execution_count": null,
   "metadata": {
    "colab": {
     "base_uri": "https://localhost:8080/"
    },
    "id": "rRqaBxHkTIyA",
    "outputId": "43c3dd4e-a1f7-49e4-bf3e-096f1a3a77bd"
   },
   "outputs": [
    {
     "name": "stdout",
     "output_type": "stream",
     "text": [
      "List the top 10 Companies with the highest revenue\n",
      "\n",
      "                         company     revenue\n",
      "2662   Pacific Union Real Estate  5528202691\n",
      "4949                  ABC Supply  4911166514\n",
      "3690  Eco-Energy Global Biofuels  4138790000\n",
      "1982           EnvisionRxOptions  3644869906\n",
      "256                      Bridger  3487872233\n",
      "4618          Prime Therapeutics  2511716640\n",
      "4203               Flyers Energy  1977921907\n",
      "3425         Sun Coast Resources  1868964476\n",
      "3240        Carahsoft Technology  1724988401\n",
      "3820                      TriNet  1644275000\n"
     ]
    }
   ],
   "source": [
    "import numpy as np\n",
    "import pandas as pd\n",
    "company = pd.read_csv ('Inc5000_Company_List_2014.csv')\n",
    "company1= company[[\"company\",\"revenue\"]]\n",
    "highest_revenue = company1.sort_values(by='revenue', ascending=False)\n",
    "print('List the top 10 Companies with the highest revenue\\n')\n",
    "print(highest_revenue.iloc[0:10])"
   ]
  },
  {
   "cell_type": "markdown",
   "metadata": {
    "id": "DwPbSjYqVG84"
   },
   "source": [
    "4. Which company in California has the lowest growth? (5 points)"
   ]
  },
  {
   "cell_type": "code",
   "execution_count": null,
   "metadata": {
    "colab": {
     "base_uri": "https://localhost:8080/"
    },
    "id": "RABpKpC2Vgvm",
    "outputId": "f7a1bb11-cdb1-4c16-8008-34411ea8ace4"
   },
   "outputs": [
    {
     "name": "stdout",
     "output_type": "stream",
     "text": [
      "Which company in California has the lowest growth?\n",
      "\n",
      "     company     state_l  growth\n",
      "4997  Sensis  California  42.519\n"
     ]
    }
   ],
   "source": [
    "import numpy as np\n",
    "import pandas as pd\n",
    "company = pd.read_csv ('Inc5000_Company_List_2014.csv')\n",
    "company1= company[[\"company\",\"state_l\",\"growth\"]]\n",
    "company2=company1.loc[company1[\"state_l\"] == \"California\"]\n",
    "lowest_growth = company2.sort_values(by='growth', ascending=True)\n",
    "print('Which company in California has the lowest growth?\\n')\n",
    "print(lowest_growth.iloc[0:1])"
   ]
  },
  {
   "cell_type": "markdown",
   "metadata": {
    "id": "o9dJ1Evba6jY"
   },
   "source": [
    "5. List the number of companies by state. In other words, create a dataframe with two columns: \"state\" and \"company_count\". (5 points)"
   ]
  },
  {
   "cell_type": "code",
   "execution_count": null,
   "metadata": {
    "colab": {
     "base_uri": "https://localhost:8080/"
    },
    "id": "7GXbCN-jbB-Q",
    "outputId": "d161dded-5384-4da1-8704-36da23441c79"
   },
   "outputs": [
    {
     "name": "stdout",
     "output_type": "stream",
     "text": [
      "List the number of companies by state\n",
      "\n",
      "                      company\n",
      "state_l                      \n",
      "Alabama                    56\n",
      "Alaska                      1\n",
      "Arizona                   104\n",
      "Arkansas                    9\n",
      "California                694\n",
      "Colorado                  122\n",
      "Connecticut                47\n",
      "Delaware                   18\n",
      "District of Columbia       44\n",
      "Florida                   303\n",
      "Georgia                   209\n",
      "Hawaii                      5\n",
      "Idaho                      12\n",
      "Illinois                  238\n",
      "Indiana                    73\n",
      "Iowa                       30\n",
      "Kansas                     36\n",
      "Kentucky                   31\n",
      "Louisiana                  41\n",
      "Maine                      14\n",
      "Maryland                  121\n",
      "Massachusetts             174\n",
      "Michigan                  130\n",
      "Minnesota                  94\n",
      "Mississippi                12\n",
      "Missouri                   72\n",
      "Montana                     5\n",
      "Nebraska                   28\n",
      "Nevada                     31\n",
      "New Hampshire              22\n",
      "New Jersey                164\n",
      "New Mexico                  6\n",
      "New York                  335\n",
      "North Carolina            146\n",
      "North Dakota                6\n",
      "Ohio                      171\n",
      "Oklahoma                   30\n",
      "Oregon                     61\n",
      "Pennsylvania              191\n",
      "Puerto Rico                 2\n",
      "Rhode Island               17\n",
      "South Carolina             55\n",
      "South Dakota                2\n",
      "Tennessee                  80\n",
      "Texas                     404\n",
      "Utah                       86\n",
      "Vermont                     3\n",
      "Virginia                  284\n",
      "Washington                107\n",
      "West Virginia               4\n",
      "Wisconsin                  70\n"
     ]
    }
   ],
   "source": [
    "import numpy as np\n",
    "import pandas as pd\n",
    "company = pd.read_csv ('Inc5000_Company_List_2014.csv')\n",
    "company1= company[[\"company\",\"state_l\"]]\n",
    "print('List the number of companies by state\\n')\n",
    "count = company1.groupby(['state_l']).count() # displays all states and no. of companies \n",
    "print(count)                                  # in that particular state"
   ]
  },
  {
   "cell_type": "markdown",
   "metadata": {
    "id": "ZcYJDcREfboe"
   },
   "source": [
    "6. List the number of companies by industry. In other words, create a dataframe with two columns: \"industry\" and \"company_count\". (5 points)"
   ]
  },
  {
   "cell_type": "code",
   "execution_count": null,
   "metadata": {
    "colab": {
     "base_uri": "https://localhost:8080/"
    },
    "id": "h8yRan5FfgdE",
    "outputId": "925766dd-bd97-4b79-e8e0-113a303361aa"
   },
   "outputs": [
    {
     "name": "stdout",
     "output_type": "stream",
     "text": [
      "List the number of companies by industry\n",
      "\n",
      "                              company\n",
      "industry                             \n",
      "Advertising & Marketing           453\n",
      "Business Products & Services      435\n",
      "Computer Hardware                  34\n",
      "Construction                      198\n",
      "Consumer Products & Services      230\n",
      "Education                          78\n",
      "Energy                            116\n",
      "Engineering                        66\n",
      "Environmental Services             54\n",
      "Financial Services                278\n",
      "Food & Beverage                   132\n",
      "Government Services               212\n",
      "Health                            377\n",
      "Human Resources                   199\n",
      "IT Services                       733\n",
      "Insurance                          67\n",
      "Logistics & Transportation        132\n",
      "Manufacturing                     212\n",
      "Media                              60\n",
      "Real Estate                       131\n",
      "Retail                            200\n",
      "Security                           68\n",
      "Software                          338\n",
      "Telecommunications                135\n",
      "Travel & Hospitality               62\n"
     ]
    }
   ],
   "source": [
    "import numpy as np\n",
    "import pandas as pd\n",
    "company = pd.read_csv ('Inc5000_Company_List_2014.csv')\n",
    "company1= company[[\"company\",\"industry\"]]\n",
    "print('List the number of companies by industry\\n')\n",
    "count = company1.groupby(['industry']).count() # displays industry and number of companies related to that\n",
    "print(count)                                    # particular industry \n"
   ]
  },
  {
   "cell_type": "markdown",
   "metadata": {
    "id": "d8HFNwFfgSZ4"
   },
   "source": [
    "7. List the number of companies by state and then by industry. In other words, create a dataframe with three columns: \"state\", \"industry\", and \"company_count\". (10 points)"
   ]
  },
  {
   "cell_type": "code",
   "execution_count": null,
   "metadata": {
    "colab": {
     "base_uri": "https://localhost:8080/"
    },
    "id": "Rjssr-qNgXj6",
    "outputId": "5db3f180-74ac-41db-de22-1bbf193af033"
   },
   "outputs": [
    {
     "name": "stdout",
     "output_type": "stream",
     "text": [
      "List the number of companies by state and then industry\n",
      "\n",
      "                                        company\n",
      "state_l   industry                             \n",
      "Alabama   Business Products & Services        4\n",
      "          Construction                        2\n",
      "          Consumer Products & Services        4\n",
      "          Education                           1\n",
      "          Energy                              1\n",
      "...                                         ...\n",
      "Wisconsin Real Estate                         1\n",
      "          Retail                              4\n",
      "          Software                            6\n",
      "          Telecommunications                  1\n",
      "          Travel & Hospitality                2\n",
      "\n",
      "[809 rows x 1 columns]\n"
     ]
    }
   ],
   "source": [
    "import numpy as np\n",
    "import pandas as pd\n",
    "company = pd.read_csv ('Inc5000_Company_List_2014.csv')\n",
    "company1= company[[\"company\",\"state_l\",\"industry\"]]\n",
    "print('List the number of companies by state and then industry\\n')\n",
    "print(company1.groupby([\"state_l\", \"industry\"]).count()) # displays the count of companies in each state\n",
    "                                                        # with respect to industry\n"
   ]
  },
  {
   "cell_type": "markdown",
   "metadata": {
    "id": "WqQHWqvZnEm0"
   },
   "source": [
    "### Airbnb dataset\n",
    "\n",
    "Load airbnb.xslx and answer the following questions.\n",
    "\n",
    "8. Count the number of properties with the word \"central park\" (not case sensitive) in Name. (5 points)"
   ]
  },
  {
   "cell_type": "code",
   "execution_count": null,
   "metadata": {
    "colab": {
     "base_uri": "https://localhost:8080/"
    },
    "id": "CETUXJBPnJdO",
    "outputId": "1b568c06-976f-48e1-b32d-7b900c0323c9"
   },
   "outputs": [
    {
     "name": "stdout",
     "output_type": "stream",
     "text": [
      "Count of the properties with the word \"central park\" is \n",
      "\n"
     ]
    },
    {
     "data": {
      "text/plain": [
       "666"
      ]
     },
     "execution_count": 25,
     "metadata": {},
     "output_type": "execute_result"
    }
   ],
   "source": [
    "import numpy as np\n",
    "import pandas as pd\n",
    "airbnb = pd.read_excel ('airbnb.xlsx')\n",
    "airbnb1 = airbnb[\"Name\"]\n",
    "print('Count of the properties with the word \"central park\" is \\n')\n",
    "airbnb1.loc[airbnb1.str.contains('central park|Central Park|Central park|CENTRAL PARK') == True].count()\n"
   ]
  },
  {
   "cell_type": "markdown",
   "metadata": {
    "id": "o-UO9OnZCwpO"
   },
   "source": [
    "9. How many Manhattan Appartment with Entire home/apt has 3 or more beds? (5 points)"
   ]
  },
  {
   "cell_type": "code",
   "execution_count": 5,
   "metadata": {
    "id": "t5YTeCCWDDO0"
   },
   "outputs": [
    {
     "data": {
      "text/html": [
       "<div>\n",
       "<style scoped>\n",
       "    .dataframe tbody tr th:only-of-type {\n",
       "        vertical-align: middle;\n",
       "    }\n",
       "\n",
       "    .dataframe tbody tr th {\n",
       "        vertical-align: top;\n",
       "    }\n",
       "\n",
       "    .dataframe thead th {\n",
       "        text-align: right;\n",
       "    }\n",
       "</style>\n",
       "<table border=\"1\" class=\"dataframe\">\n",
       "  <thead>\n",
       "    <tr style=\"text-align: right;\">\n",
       "      <th></th>\n",
       "      <th>Name</th>\n",
       "      <th>Neighbourhood</th>\n",
       "      <th>Room Type</th>\n",
       "      <th>Beds</th>\n",
       "    </tr>\n",
       "  </thead>\n",
       "  <tbody>\n",
       "    <tr>\n",
       "      <th>3</th>\n",
       "      <td>Gorgeous 1 BR with Private Balcony</td>\n",
       "      <td>Manhattan</td>\n",
       "      <td>Entire home/apt</td>\n",
       "      <td>3.0</td>\n",
       "    </tr>\n",
       "    <tr>\n",
       "      <th>18</th>\n",
       "      <td>Priv Apt,Garden,BBQ,A/C,BigTV,for 4</td>\n",
       "      <td>Manhattan</td>\n",
       "      <td>Entire home/apt</td>\n",
       "      <td>3.0</td>\n",
       "    </tr>\n",
       "    <tr>\n",
       "      <th>19</th>\n",
       "      <td>Great 3 Bed Apt Tribeca / Soho</td>\n",
       "      <td>Manhattan</td>\n",
       "      <td>Entire home/apt</td>\n",
       "      <td>3.0</td>\n",
       "    </tr>\n",
       "    <tr>\n",
       "      <th>28</th>\n",
       "      <td>3 bedroom apartment in Chinatown!</td>\n",
       "      <td>Manhattan</td>\n",
       "      <td>Entire home/apt</td>\n",
       "      <td>4.0</td>\n",
       "    </tr>\n",
       "    <tr>\n",
       "      <th>36</th>\n",
       "      <td>Sunny &amp; Bright Harlem Home</td>\n",
       "      <td>Manhattan</td>\n",
       "      <td>Entire home/apt</td>\n",
       "      <td>3.0</td>\n",
       "    </tr>\n",
       "    <tr>\n",
       "      <th>...</th>\n",
       "      <td>...</td>\n",
       "      <td>...</td>\n",
       "      <td>...</td>\n",
       "      <td>...</td>\n",
       "    </tr>\n",
       "    <tr>\n",
       "      <th>30362</th>\n",
       "      <td>2 Bed 2 Bath-Steps to Central Park!</td>\n",
       "      <td>Manhattan</td>\n",
       "      <td>Entire home/apt</td>\n",
       "      <td>3.0</td>\n",
       "    </tr>\n",
       "    <tr>\n",
       "      <th>30365</th>\n",
       "      <td>Time Square Midtown Luxury2BD/2BA</td>\n",
       "      <td>Manhattan</td>\n",
       "      <td>Entire home/apt</td>\n",
       "      <td>3.0</td>\n",
       "    </tr>\n",
       "    <tr>\n",
       "      <th>30396</th>\n",
       "      <td>Luxury 2 Bedroom /Sleep 6 / Doorman</td>\n",
       "      <td>Manhattan</td>\n",
       "      <td>Entire home/apt</td>\n",
       "      <td>3.0</td>\n",
       "    </tr>\n",
       "    <tr>\n",
       "      <th>30398</th>\n",
       "      <td>Private Patio Midtown Apt Sleep 5</td>\n",
       "      <td>Manhattan</td>\n",
       "      <td>Entire home/apt</td>\n",
       "      <td>3.0</td>\n",
       "    </tr>\n",
       "    <tr>\n",
       "      <th>30445</th>\n",
       "      <td>3 Beds near Central Park /Lincoln C</td>\n",
       "      <td>Manhattan</td>\n",
       "      <td>Entire home/apt</td>\n",
       "      <td>3.0</td>\n",
       "    </tr>\n",
       "  </tbody>\n",
       "</table>\n",
       "<p>1552 rows × 4 columns</p>\n",
       "</div>"
      ],
      "text/plain": [
       "                                      Name Neighbourhood        Room Type  \\\n",
       "3       Gorgeous 1 BR with Private Balcony     Manhattan  Entire home/apt   \n",
       "18     Priv Apt,Garden,BBQ,A/C,BigTV,for 4     Manhattan  Entire home/apt   \n",
       "19          Great 3 Bed Apt Tribeca / Soho     Manhattan  Entire home/apt   \n",
       "28       3 bedroom apartment in Chinatown!     Manhattan  Entire home/apt   \n",
       "36              Sunny & Bright Harlem Home     Manhattan  Entire home/apt   \n",
       "...                                    ...           ...              ...   \n",
       "30362  2 Bed 2 Bath-Steps to Central Park!     Manhattan  Entire home/apt   \n",
       "30365    Time Square Midtown Luxury2BD/2BA     Manhattan  Entire home/apt   \n",
       "30396  Luxury 2 Bedroom /Sleep 6 / Doorman     Manhattan  Entire home/apt   \n",
       "30398    Private Patio Midtown Apt Sleep 5     Manhattan  Entire home/apt   \n",
       "30445  3 Beds near Central Park /Lincoln C     Manhattan  Entire home/apt   \n",
       "\n",
       "       Beds  \n",
       "3       3.0  \n",
       "18      3.0  \n",
       "19      3.0  \n",
       "28      4.0  \n",
       "36      3.0  \n",
       "...     ...  \n",
       "30362   3.0  \n",
       "30365   3.0  \n",
       "30396   3.0  \n",
       "30398   3.0  \n",
       "30445   3.0  \n",
       "\n",
       "[1552 rows x 4 columns]"
      ]
     },
     "execution_count": 5,
     "metadata": {},
     "output_type": "execute_result"
    }
   ],
   "source": [
    "import numpy as np\n",
    "import pandas as pd\n",
    "airbnb = pd.read_excel ('airbnb.xlsx')\n",
    "airbnb1 = airbnb[[\"Name\",\"Neighbourhood\",\"Room Type\",\"Beds\"]]\n",
    "airbnb2= airbnb1.loc[airbnb1[\"Neighbourhood\"] == \"Manhattan\"]\n",
    "airbnb3= airbnb2.loc[airbnb2[\"Room Type\"] == \"Entire home/apt\"]\n",
    "airbnb3.loc[airbnb3[\"Beds\"]>= 3] # gives the list of apartments 1552 rows\n"
   ]
  },
  {
   "cell_type": "markdown",
   "metadata": {
    "id": "4o5PikcVHd5o"
   },
   "source": [
    "10. List the top three Apartments with Entire home/apt in Manhattan with a Price lower than 400 and Review Scores Rating higher than 90. (Do not use the \"Review Scores Rating (bin)\" column.) (10 points)"
   ]
  },
  {
   "cell_type": "code",
   "execution_count": 146,
   "metadata": {
    "id": "ZziFxrv7Ho6C"
   },
   "outputs": [
    {
     "name": "stdout",
     "output_type": "stream",
     "text": [
      "Top three apartments from list with lowest price\n"
     ]
    },
    {
     "data": {
      "text/html": [
       "<div>\n",
       "<style scoped>\n",
       "    .dataframe tbody tr th:only-of-type {\n",
       "        vertical-align: middle;\n",
       "    }\n",
       "\n",
       "    .dataframe tbody tr th {\n",
       "        vertical-align: top;\n",
       "    }\n",
       "\n",
       "    .dataframe thead th {\n",
       "        text-align: right;\n",
       "    }\n",
       "</style>\n",
       "<table border=\"1\" class=\"dataframe\">\n",
       "  <thead>\n",
       "    <tr style=\"text-align: right;\">\n",
       "      <th></th>\n",
       "      <th>Name</th>\n",
       "      <th>Neighbourhood</th>\n",
       "      <th>Room Type</th>\n",
       "      <th>Price</th>\n",
       "      <th>Review Scores Rating</th>\n",
       "    </tr>\n",
       "  </thead>\n",
       "  <tbody>\n",
       "    <tr>\n",
       "      <th>16203</th>\n",
       "      <td>Empty, clean apt -Avail for 2 weeks</td>\n",
       "      <td>Manhattan</td>\n",
       "      <td>Entire home/apt</td>\n",
       "      <td>50</td>\n",
       "      <td>100.0</td>\n",
       "    </tr>\n",
       "    <tr>\n",
       "      <th>5594</th>\n",
       "      <td>Beautiful Harlem Studio</td>\n",
       "      <td>Manhattan</td>\n",
       "      <td>Entire home/apt</td>\n",
       "      <td>50</td>\n",
       "      <td>98.0</td>\n",
       "    </tr>\n",
       "    <tr>\n",
       "      <th>9137</th>\n",
       "      <td>Comfy apartment, adorable cat!</td>\n",
       "      <td>Manhattan</td>\n",
       "      <td>Entire home/apt</td>\n",
       "      <td>50</td>\n",
       "      <td>92.0</td>\n",
       "    </tr>\n",
       "  </tbody>\n",
       "</table>\n",
       "</div>"
      ],
      "text/plain": [
       "                                      Name Neighbourhood        Room Type  \\\n",
       "16203  Empty, clean apt -Avail for 2 weeks     Manhattan  Entire home/apt   \n",
       "5594               Beautiful Harlem Studio     Manhattan  Entire home/apt   \n",
       "9137        Comfy apartment, adorable cat!     Manhattan  Entire home/apt   \n",
       "\n",
       "       Price  Review Scores Rating  \n",
       "16203     50                 100.0  \n",
       "5594      50                  98.0  \n",
       "9137      50                  92.0  "
      ]
     },
     "execution_count": 146,
     "metadata": {},
     "output_type": "execute_result"
    }
   ],
   "source": [
    "import numpy as np\n",
    "import pandas as pd\n",
    "airbnb = pd.read_excel ('airbnb.xlsx')\n",
    "airbnb1 = airbnb[[\"Name\",\"Neighbourhood\",\"Room Type\",\"Price\",\"Review Scores Rating\"]]\n",
    "airbnb2= airbnb1.loc[airbnb1[\"Neighbourhood\"] == \"Manhattan\"]\n",
    "airbnb3= airbnb2.loc[airbnb2[\"Room Type\"] == \"Entire home/apt\"]\n",
    "airbnb4= airbnb3.loc[airbnb3[\"Price\"]<400]\n",
    "top_three =airbnb4.loc[airbnb4[\"Review Scores Rating\"]>90]\n",
    "top_three = top_three.sort_values(by='Price', ascending=True)\n",
    "print('Top three apartments from list with lowest price')\n",
    "top_three.iloc[0:3]# displays top rated appartment with lowest price"
   ]
  },
  {
   "cell_type": "markdown",
   "metadata": {
    "id": "H-4iHW83KYax"
   },
   "source": [
    "11. List the average property price for each Neighbourhood. In other words, create a dataframe with two columns: \"neighbourhood\" and \"average_price\". (10 points)"
   ]
  },
  {
   "cell_type": "code",
   "execution_count": 147,
   "metadata": {
    "colab": {
     "base_uri": "https://localhost:8080/"
    },
    "id": "GpdktqDcKdAB",
    "outputId": "231affa0-4c76-4181-d8ee-3da748bc9b36"
   },
   "outputs": [
    {
     "name": "stdout",
     "output_type": "stream",
     "text": [
      "The average property price for each Neighbourhood.\n",
      "\n"
     ]
    },
    {
     "data": {
      "text/plain": [
       "Neighbourhood\n",
       "Bronx             94.660870\n",
       "Brooklyn         129.500471\n",
       "Manhattan        198.474584\n",
       "Queens           103.222125\n",
       "Staten Island    163.462585\n",
       "Name: Price, dtype: float64"
      ]
     },
     "execution_count": 147,
     "metadata": {},
     "output_type": "execute_result"
    }
   ],
   "source": [
    "import numpy as np\n",
    "import pandas as pd\n",
    "airbnb = pd.read_excel ('airbnb.xlsx')\n",
    "airbnb1 = airbnb[[\"Neighbourhood\",\"Price\"]]\n",
    "print('The average property price for each Neighbourhood.\\n')\n",
    "airbnb1.groupby('Neighbourhood')['Price'].mean()\n",
    "#df = pd.DataFrame(data, columns=['Neighbourhood', 'Average_Price'])\n",
    "#airbnb1.groupby([\"Neighbourhood\", \"Price\"]).mean()\n"
   ]
  },
  {
   "cell_type": "markdown",
   "metadata": {
    "id": "MnrpIni3Kdu0"
   },
   "source": [
    "### Summer Olympic Medalists dataset\n",
    "\n",
    "Load Summer_Olympic_medalists_1896-2008.xslx and answer the following questions. (30 points)\n",
    "\n",
    "12. From 1980 to 2008, which country won the most medals in Wrestling? (10 points)"
   ]
  },
  {
   "cell_type": "code",
   "execution_count": 10,
   "metadata": {
    "colab": {
     "base_uri": "https://localhost:8080/"
    },
    "id": "9_AfOkG0Kgws",
    "outputId": "dec985b7-5044-4574-fb22-8d8d76e2297f"
   },
   "outputs": [
    {
     "name": "stdout",
     "output_type": "stream",
     "text": [
      "From 1980 to 2008, which country won the most medals in Wrestling? \n",
      "\n"
     ]
    },
    {
     "data": {
      "text/plain": [
       "USA    51\n",
       "Name: NOC, dtype: int64"
      ]
     },
     "execution_count": 10,
     "metadata": {},
     "output_type": "execute_result"
    }
   ],
   "source": [
    "import numpy as np\n",
    "import pandas as pd\n",
    "olympic = pd.read_excel ('Summer_Olympic_medallists_1896-2008.xlsx')\n",
    "olympic1= olympic[[\"Edition\",\"Sport\",\"NOC\",\"Medal\"]]\n",
    "olympic2= olympic1.loc[olympic1[\"Edition\"]>= 1980]\n",
    "olympic3= olympic2.loc[olympic2[\"Sport\"]== \"Wrestling\"]\n",
    "olympic4 = olympic3[\"NOC\"].value_counts()\n",
    "print('From 1980 to 2008, which country won the most medals in Wrestling? \\n')\n",
    "olympic4[0:1]\n",
    "\n"
   ]
  },
  {
   "cell_type": "markdown",
   "metadata": {
    "id": "yE86gqOkKiCY"
   },
   "source": [
    "13. List the number of medals won by USA athletes from 1996 to 2008. In other words, create a dataframe with the following columns: \"country\", \"year\", \"gold\", \"silver\", \"bronze\". (10 points)"
   ]
  },
  {
   "cell_type": "code",
   "execution_count": 145,
   "metadata": {
    "colab": {
     "base_uri": "https://localhost:8080/"
    },
    "id": "k-o6npgdKmEd",
    "outputId": "b8a97b40-aeff-4215-e1eb-9b07074ddcc5"
   },
   "outputs": [
    {
     "name": "stdout",
     "output_type": "stream",
     "text": [
      "The number of medals won by USA athletes from 1996 to 2008. \n",
      "\n",
      "NOC  Edition  Medal \n",
      "USA  1996     Bronze     52\n",
      "              Gold      160\n",
      "              Silver     48\n",
      "     2000     Bronze     52\n",
      "              Gold      130\n",
      "              Silver     66\n",
      "     2004     Bronze     73\n",
      "              Gold      116\n",
      "              Silver     75\n",
      "     2008     Bronze     81\n",
      "              Gold      125\n",
      "              Silver    109\n",
      "Name: Medal, dtype: int64\n"
     ]
    }
   ],
   "source": [
    "import numpy as np\n",
    "import pandas as pd\n",
    "olympic = pd.read_excel ('Summer_Olympic_medallists_1896-2008.xlsx')\n",
    "olympic1= olympic[[\"Edition\",\"NOC\",\"Medal\"]]\n",
    "olympic2= olympic1.loc[olympic1[\"NOC\"]== \"USA\"]\n",
    "olympic2= olympic2.loc[olympic2[\"Edition\"]>= 1996]\n",
    "olympic2= olympic2.groupby([\"NOC\",\"Edition\", \n",
    "                            \"Medal\"])[\"Medal\"].count()\n",
    "#olympic4 = olympic3[\"Medal\"].value_counts()\n",
    "print('The number of medals won by USA athletes from 1996 to 2008. \\n')\n",
    "#df = pd.DataFrame(olympic1, columns=[\"counyry\",\"year\",\"gold\",\"silver\",\"bronze\"])\n",
    "print(olympic2)"
   ]
  },
  {
   "cell_type": "markdown",
   "metadata": {
    "id": "3KeD9QjoKmoW"
   },
   "source": [
    "14. Are there athletes who won medals in three or more different Olympics? If so, print the names, their countries, and the years they won. In other words, create a dataframe with the columns: \"athlete\", \"NOC\", \"year1\", \"year2\", \"year3\", \"year4\", etc. (10 points) "
   ]
  },
  {
   "cell_type": "code",
   "execution_count": 150,
   "metadata": {},
   "outputs": [],
   "source": [
    "import warnings\n",
    "warnings.filterwarnings('ignore')"
   ]
  },
  {
   "cell_type": "code",
   "execution_count": 152,
   "metadata": {
    "colab": {
     "base_uri": "https://localhost:8080/"
    },
    "id": "HcZRvpjSKqTX",
    "outputId": "379d00d7-bd8e-494d-a339-9505b06cc5eb"
   },
   "outputs": [
    {
     "name": "stdout",
     "output_type": "stream",
     "text": [
      "Athletes who won medals in three or more different Olympics. \n",
      "\n"
     ]
    },
    {
     "data": {
      "text/html": [
       "<div>\n",
       "<style scoped>\n",
       "    .dataframe tbody tr th:only-of-type {\n",
       "        vertical-align: middle;\n",
       "    }\n",
       "\n",
       "    .dataframe tbody tr th {\n",
       "        vertical-align: top;\n",
       "    }\n",
       "\n",
       "    .dataframe thead th {\n",
       "        text-align: right;\n",
       "    }\n",
       "</style>\n",
       "<table border=\"1\" class=\"dataframe\">\n",
       "  <thead>\n",
       "    <tr style=\"text-align: right;\">\n",
       "      <th></th>\n",
       "      <th>Athlete</th>\n",
       "      <th>NOC</th>\n",
       "      <th>Years_Won</th>\n",
       "      <th>count1</th>\n",
       "    </tr>\n",
       "  </thead>\n",
       "  <tbody>\n",
       "    <tr>\n",
       "      <th>24</th>\n",
       "      <td>ABBAGNALE, Agostino</td>\n",
       "      <td>ITA</td>\n",
       "      <td>[1988, 1996, 2000]</td>\n",
       "      <td>3.0</td>\n",
       "    </tr>\n",
       "    <tr>\n",
       "      <th>25</th>\n",
       "      <td>ABBAGNALE, Carmine</td>\n",
       "      <td>ITA</td>\n",
       "      <td>[1984, 1988, 1992]</td>\n",
       "      <td>3.0</td>\n",
       "    </tr>\n",
       "    <tr>\n",
       "      <th>26</th>\n",
       "      <td>ABBAGNALE, Giuseppe</td>\n",
       "      <td>ITA</td>\n",
       "      <td>[1984, 1988, 1992]</td>\n",
       "      <td>3.0</td>\n",
       "    </tr>\n",
       "    <tr>\n",
       "      <th>33</th>\n",
       "      <td>ABDUL, Hamid</td>\n",
       "      <td>PAK</td>\n",
       "      <td>[1956, 1960, 1964]</td>\n",
       "      <td>3.0</td>\n",
       "    </tr>\n",
       "    <tr>\n",
       "      <th>35</th>\n",
       "      <td>ABDUL, Rashid III</td>\n",
       "      <td>PAK</td>\n",
       "      <td>[1968, 1972, 1976]</td>\n",
       "      <td>3.0</td>\n",
       "    </tr>\n",
       "    <tr>\n",
       "      <th>...</th>\n",
       "      <td>...</td>\n",
       "      <td>...</td>\n",
       "      <td>...</td>\n",
       "      <td>...</td>\n",
       "    </tr>\n",
       "    <tr>\n",
       "      <th>21580</th>\n",
       "      <td>ZIELINSKI, Marian</td>\n",
       "      <td>POL</td>\n",
       "      <td>[1956, 1964, 1968]</td>\n",
       "      <td>3.0</td>\n",
       "    </tr>\n",
       "    <tr>\n",
       "      <th>21612</th>\n",
       "      <td>ZIZIC, Rajko</td>\n",
       "      <td>YUG</td>\n",
       "      <td>[1976, 1980, 1984]</td>\n",
       "      <td>3.0</td>\n",
       "    </tr>\n",
       "    <tr>\n",
       "      <th>21644</th>\n",
       "      <td>ZSIVOTZKY, Gyula</td>\n",
       "      <td>HUN</td>\n",
       "      <td>[1960, 1964, 1968]</td>\n",
       "      <td>3.0</td>\n",
       "    </tr>\n",
       "    <tr>\n",
       "      <th>21646</th>\n",
       "      <td>ZUB, Ryszard</td>\n",
       "      <td>POL</td>\n",
       "      <td>[1956, 1960, 1964]</td>\n",
       "      <td>3.0</td>\n",
       "    </tr>\n",
       "    <tr>\n",
       "      <th>21683</th>\n",
       "      <td>ZYBINA, Galina</td>\n",
       "      <td>URS</td>\n",
       "      <td>[1952, 1956, 1964]</td>\n",
       "      <td>3.0</td>\n",
       "    </tr>\n",
       "  </tbody>\n",
       "</table>\n",
       "<p>668 rows × 4 columns</p>\n",
       "</div>"
      ],
      "text/plain": [
       "                   Athlete  NOC           Years_Won  count1\n",
       "24     ABBAGNALE, Agostino  ITA  [1988, 1996, 2000]     3.0\n",
       "25      ABBAGNALE, Carmine  ITA  [1984, 1988, 1992]     3.0\n",
       "26     ABBAGNALE, Giuseppe  ITA  [1984, 1988, 1992]     3.0\n",
       "33            ABDUL, Hamid  PAK  [1956, 1960, 1964]     3.0\n",
       "35       ABDUL, Rashid III  PAK  [1968, 1972, 1976]     3.0\n",
       "...                    ...  ...                 ...     ...\n",
       "21580    ZIELINSKI, Marian  POL  [1956, 1964, 1968]     3.0\n",
       "21612         ZIZIC, Rajko  YUG  [1976, 1980, 1984]     3.0\n",
       "21644     ZSIVOTZKY, Gyula  HUN  [1960, 1964, 1968]     3.0\n",
       "21646         ZUB, Ryszard  POL  [1956, 1960, 1964]     3.0\n",
       "21683       ZYBINA, Galina  URS  [1952, 1956, 1964]     3.0\n",
       "\n",
       "[668 rows x 4 columns]"
      ]
     },
     "execution_count": 152,
     "metadata": {},
     "output_type": "execute_result"
    }
   ],
   "source": [
    "import numpy as np\n",
    "import pandas as pd\n",
    "olympic = pd.read_excel ('Summer_Olympic_medallists_1896-2008.xlsx')\n",
    "olympic= olympic[[\"Athlete\",\"Edition\",\"NOC\"]]\n",
    "olympic2 = olympic.groupby(by= ['Athlete','NOC'])[\"Edition\"].unique().to_frame(name = 'Years_Won').reset_index()\n",
    "olympic2[\"count1\"] = np.nan\n",
    "for i in range(0,len(olympic2)):\n",
    "    len1 = len(olympic2[\"Years_Won\"][i])\n",
    "    olympic2[\"count1\"][i] = len1\n",
    "print('Athletes who won medals in three or more different Olympics. \\n')\n",
    "olympic2.loc[olympic2[\"count1\"]>= 3]\n",
    "#olympic= olympic.groupby(['Athlete','NOC'])['Edition'].unique()\n",
    "\n",
    "#olympic.groupby('Edition').unique()\n"
   ]
  },
  {
   "cell_type": "code",
   "execution_count": null,
   "metadata": {},
   "outputs": [],
   "source": []
  }
 ],
 "metadata": {
  "colab": {
   "collapsed_sections": [],
   "name": "Assignment1.ipynb",
   "provenance": []
  },
  "kernelspec": {
   "display_name": "Python 3 (ipykernel)",
   "language": "python",
   "name": "python3"
  },
  "language_info": {
   "codemirror_mode": {
    "name": "ipython",
    "version": 3
   },
   "file_extension": ".py",
   "mimetype": "text/x-python",
   "name": "python",
   "nbconvert_exporter": "python",
   "pygments_lexer": "ipython3",
   "version": "3.9.7"
  }
 },
 "nbformat": 4,
 "nbformat_minor": 1
}
